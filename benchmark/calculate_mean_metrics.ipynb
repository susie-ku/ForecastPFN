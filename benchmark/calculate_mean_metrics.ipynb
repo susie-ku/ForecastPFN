{
 "cells": [
  {
   "cell_type": "code",
   "execution_count": 3,
   "metadata": {},
   "outputs": [],
   "source": [
    "import numpy as np\n",
    "import glob\n",
    "import os"
   ]
  },
  {
   "cell_type": "code",
   "execution_count": 4,
   "metadata": {},
   "outputs": [
    {
     "name": "stdout",
     "output_type": "stream",
     "text": [
      "2.4586461818014564\n",
      "1.213351631031387\n"
     ]
    }
   ],
   "source": [
    "path = '/media/ssd-3t/kkuvshinova/time_series/ForecastPFN/benchmark/results'\n",
    "for root, dirs, _ in os.walk(path):\n",
    "    for d in dirs:\n",
    "        path_sub = os.path.join(root, d) # this is the current subfolder\n",
    "        list_pred = []\n",
    "        for filename in glob.glob(os.path.join(path_sub, 'pred.npy')):\n",
    "            pred = np.load(filename)\n",
    "            list_pred.append(pred)\n",
    "        list_true = []\n",
    "        for filename in glob.glob(os.path.join(path_sub, 'true.npy')):\n",
    "            true = np.load(filename)\n",
    "            list_true.append(true)\n",
    "\n",
    "arr_pred = np.concatenate(list_pred).ravel()\n",
    "arr_true = np.concatenate(list_true).ravel()\n",
    "mse = np.sum(np.power(arr_pred - arr_true, 2)) / len(arr_pred)\n",
    "mae = np.sum(np.abs(arr_pred - arr_true)) / len(arr_pred)\n",
    "print(mse)\n",
    "print(mae)"
   ]
  },
  {
   "cell_type": "code",
   "execution_count": null,
   "metadata": {},
   "outputs": [],
   "source": []
  }
 ],
 "metadata": {
  "kernelspec": {
   "display_name": "forecastpfn",
   "language": "python",
   "name": "python3"
  },
  "language_info": {
   "codemirror_mode": {
    "name": "ipython",
    "version": 3
   },
   "file_extension": ".py",
   "mimetype": "text/x-python",
   "name": "python",
   "nbconvert_exporter": "python",
   "pygments_lexer": "ipython3",
   "version": "3.9.18"
  }
 },
 "nbformat": 4,
 "nbformat_minor": 2
}
