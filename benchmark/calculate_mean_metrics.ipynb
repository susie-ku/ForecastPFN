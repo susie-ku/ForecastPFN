{
 "cells": [
  {
   "cell_type": "code",
   "execution_count": 8,
   "metadata": {},
   "outputs": [],
   "source": [
    "import numpy as np\n",
    "import glob\n",
    "import os"
   ]
  },
  {
   "cell_type": "code",
   "execution_count": 9,
   "metadata": {},
   "outputs": [
    {
     "name": "stdout",
     "output_type": "stream",
     "text": [
      "1.0915650644429655\n",
      "0.8717818350184198\n"
     ]
    }
   ],
   "source": [
    "# path = '/media/ssd-3t/kkuvshinova/time_series/ForecastPFN/benchmark/results/ili'\n",
    "path = '/home/jovyan/kkuvshinova/ForecastPFN/benchmark/results/ili'\n",
    "for root, dirs, _ in os.walk(path):\n",
    "    for d in dirs:\n",
    "        if \"ForecastPFN_ili_sl52\" in d: \n",
    "            path_sub = os.path.join(root, d) # this is the current subfolder\n",
    "            list_pred = []\n",
    "            for filename in glob.glob(os.path.join(path_sub, 'pred.npy')):\n",
    "                pred = np.load(filename)\n",
    "                list_pred.append(pred)\n",
    "            list_true = []\n",
    "            for filename in glob.glob(os.path.join(path_sub, 'true.npy')):\n",
    "                true = np.load(filename)\n",
    "                list_true.append(true)\n",
    "\n",
    "arr_pred = np.concatenate(list_pred).ravel()\n",
    "arr_true = np.concatenate(list_true).ravel()\n",
    "mse = np.sum(np.power(arr_pred - arr_true, 2)) / len(arr_pred)\n",
    "mae = np.sum(np.abs(arr_pred - arr_true)) / len(arr_pred)\n",
    "print(mse)\n",
    "print(mae)"
   ]
  },
  {
   "cell_type": "code",
   "execution_count": 10,
   "metadata": {},
   "outputs": [
    {
     "name": "stdout",
     "output_type": "stream",
     "text": [
      "1.5790083374674542\n",
      "1.0879986571962772\n"
     ]
    }
   ],
   "source": [
    "# path = '/media/ssd-3t/kkuvshinova/time_series/ForecastPFN/benchmark/results/ili'\n",
    "path = '/home/jovyan/kkuvshinova/ForecastPFN/benchmark/results/ili'\n",
    "for root, dirs, _ in os.walk(path):\n",
    "    for d in dirs:\n",
    "        if \"ForecastPFN_ili_sl104\" in d: \n",
    "            path_sub = os.path.join(root, d) # this is the current subfolder\n",
    "            list_pred = []\n",
    "            for filename in glob.glob(os.path.join(path_sub, 'pred.npy')):\n",
    "                pred = np.load(filename)\n",
    "                list_pred.append(pred)\n",
    "            list_true = []\n",
    "            for filename in glob.glob(os.path.join(path_sub, 'true.npy')):\n",
    "                true = np.load(filename)\n",
    "                list_true.append(true)\n",
    "\n",
    "arr_pred = np.concatenate(list_pred).ravel()\n",
    "arr_true = np.concatenate(list_true).ravel()\n",
    "mse = np.sum(np.power(arr_pred - arr_true, 2)) / len(arr_pred)\n",
    "mae = np.sum(np.abs(arr_pred - arr_true)) / len(arr_pred)\n",
    "print(mse)\n",
    "print(mae)"
   ]
  },
  {
   "cell_type": "code",
   "execution_count": null,
   "metadata": {},
   "outputs": [],
   "source": []
  }
 ],
 "metadata": {
  "kernelspec": {
   "display_name": "Python 3 (ipykernel)",
   "language": "python",
   "name": "python3"
  },
  "language_info": {
   "codemirror_mode": {
    "name": "ipython",
    "version": 3
   },
   "file_extension": ".py",
   "mimetype": "text/x-python",
   "name": "python",
   "nbconvert_exporter": "python",
   "pygments_lexer": "ipython3",
   "version": "3.7.12"
  }
 },
 "nbformat": 4,
 "nbformat_minor": 2
}
